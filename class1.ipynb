{
 "cells": [
  {
   "cell_type": "code",
   "execution_count": 1,
   "id": "9d82e4fe-927b-4c46-86c3-9e9092ce2c7a",
   "metadata": {},
   "outputs": [
    {
     "name": "stdout",
     "output_type": "stream",
     "text": [
      "60\n"
     ]
    }
   ],
   "source": [
    "a=10\n",
    "b=50\n",
    "sum=a+b\n",
    "print(sum)\n",
    "\n"
   ]
  },
  {
   "cell_type": "code",
   "execution_count": 2,
   "id": "52e40081-6c3d-40f9-a2ef-ffb17f49168c",
   "metadata": {},
   "outputs": [
    {
     "name": "stdout",
     "output_type": "stream",
     "text": [
      "kumkum\n"
     ]
    }
   ],
   "source": [
    "name=\"kumkum\"\n",
    "print(name)\n"
   ]
  },
  {
   "cell_type": "code",
   "execution_count": null,
   "id": "8386ca90-f9bc-4f43-9b16-88e0ea877c1a",
   "metadata": {},
   "outputs": [
    {
     "name": "stdout",
     "output_type": "stream",
     "text": [
      "enter radius 70\n"
     ]
    },
    {
     "name": "stdout",
     "output_type": "stream",
     "text": [
      "15386.0\n"
     ]
    }
   ],
   "source": [
    "radius=float(input(\"enter radius\"))\n",
    "a=3.14\n",
    "print(a*radius*radius)\n"
   ]
  },
  {
   "cell_type": "code",
   "execution_count": 6,
   "id": "4e3096d3-672e-470d-b5d5-c3a11df20bb6",
   "metadata": {},
   "outputs": [
    {
     "name": "stdout",
     "output_type": "stream",
     "text": [
      "Enter length 2\n",
      "Enter width 3\n"
     ]
    },
    {
     "name": "stdout",
     "output_type": "stream",
     "text": [
      "6\n"
     ]
    }
   ],
   "source": [
    "length=int(input(\"Enter length\"))\n",
    "width=int(input(\"Enter width\"))\n",
    "print(length*width)\n"
   ]
  },
  {
   "cell_type": "code",
   "execution_count": null,
   "id": "35095065-a2f3-42e5-b44f-1c350758f2a8",
   "metadata": {},
   "outputs": [],
   "source": []
  },
  {
   "cell_type": "code",
   "execution_count": null,
   "id": "60125d4d-232e-46c6-96d1-7a8c02871676",
   "metadata": {},
   "outputs": [],
   "source": []
  },
  {
   "cell_type": "code",
   "execution_count": null,
   "id": "71f38709-bfa2-4cbe-b949-ce53739543da",
   "metadata": {},
   "outputs": [],
   "source": []
  },
  {
   "cell_type": "code",
   "execution_count": null,
   "id": "f13cf888-4f2b-4255-bb3f-bbba5892aa24",
   "metadata": {},
   "outputs": [],
   "source": []
  },
  {
   "cell_type": "code",
   "execution_count": null,
   "id": "ebe0eaeb-de30-4037-bdb0-db88dbbd69f8",
   "metadata": {},
   "outputs": [],
   "source": []
  },
  {
   "cell_type": "code",
   "execution_count": null,
   "id": "737b9566-2974-4434-befe-4d126657f746",
   "metadata": {},
   "outputs": [],
   "source": []
  },
  {
   "cell_type": "code",
   "execution_count": null,
   "id": "0e03e190-1a71-4838-9720-bfc4ee062639",
   "metadata": {},
   "outputs": [],
   "source": []
  },
  {
   "cell_type": "code",
   "execution_count": null,
   "id": "8098cf47-44c7-4a51-a9aa-7bc0bcd7e9ba",
   "metadata": {},
   "outputs": [],
   "source": []
  }
 ],
 "metadata": {
  "kernelspec": {
   "display_name": "Python 3 (ipykernel)",
   "language": "python",
   "name": "python3"
  },
  "language_info": {
   "codemirror_mode": {
    "name": "ipython",
    "version": 3
   },
   "file_extension": ".py",
   "mimetype": "text/x-python",
   "name": "python",
   "nbconvert_exporter": "python",
   "pygments_lexer": "ipython3",
   "version": "3.13.2"
  }
 },
 "nbformat": 4,
 "nbformat_minor": 5
}
