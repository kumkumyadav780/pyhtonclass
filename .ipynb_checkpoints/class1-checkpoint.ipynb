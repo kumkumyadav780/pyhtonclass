{
 "cells": [
  {
   "cell_type": "code",
   "execution_count": null,
   "id": "9d82e4fe-927b-4c46-86c3-9e9092ce2c7a",
   "metadata": {},
   "outputs": [],
   "source": [
    "s=int(input(\"Enter radius :\"))\n",
    "area=s*s\n",
    "print(area)"
   ]
  }
 ],
 "metadata": {
  "kernelspec": {
   "display_name": "Python 3 (ipykernel)",
   "language": "python",
   "name": "python3"
  },
  "language_info": {
   "codemirror_mode": {
    "name": "ipython",
    "version": 3
   },
   "file_extension": ".py",
   "mimetype": "text/x-python",
   "name": "python",
   "nbconvert_exporter": "python",
   "pygments_lexer": "ipython3",
   "version": "3.13.2"
  }
 },
 "nbformat": 4,
 "nbformat_minor": 5
}
